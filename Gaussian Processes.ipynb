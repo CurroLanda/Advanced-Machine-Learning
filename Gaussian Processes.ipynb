{
 "cells": [
  {
   "cell_type": "markdown",
   "metadata": {
    "executionInfo": {
     "elapsed": 997,
     "status": "ok",
     "timestamp": 1604482757442,
     "user": {
      "displayName": "EMILIO PARRADO HERNANDEZ",
      "photoUrl": "https://lh3.googleusercontent.com/a-/AOh14Ghu-OvX6osyVq8b7J4Xa7D7HiZ61sPYwKqgPxyJ=s64",
      "userId": "09506376050266996513"
     },
     "user_tz": -60
    },
    "id": "lXyR3B1-cst0"
   },
   "source": [
    "Gabriela Marín Martín, Francisco Landa Ortega, Eduardo González Agüero, Alejandro Sánchez Diez\n",
    "\n",
    "Group 96 - Stephen \n",
    "\n",
    "Bachelor in Data Science and Engineering"
   ]
  },
  {
   "cell_type": "code",
   "execution_count": 1,
   "metadata": {},
   "outputs": [],
   "source": [
    "from IPython import display\n",
    "from IPython.core.display import Image"
   ]
  },
  {
   "cell_type": "code",
   "execution_count": 2,
   "metadata": {
    "executionInfo": {
     "elapsed": 1477,
     "status": "ok",
     "timestamp": 1604482757927,
     "user": {
      "displayName": "EMILIO PARRADO HERNANDEZ",
      "photoUrl": "https://lh3.googleusercontent.com/a-/AOh14Ghu-OvX6osyVq8b7J4Xa7D7HiZ61sPYwKqgPxyJ=s64",
      "userId": "09506376050266996513"
     },
     "user_tz": -60
    },
    "id": "McTkC40Tcst3"
   },
   "outputs": [],
   "source": [
    "%matplotlib inline\n",
    "%config InlineBackend.figure_format = 'retina'  "
   ]
  },
  {
   "cell_type": "code",
   "execution_count": 3,
   "metadata": {
    "executionInfo": {
     "elapsed": 1473,
     "status": "ok",
     "timestamp": 1604482757927,
     "user": {
      "displayName": "EMILIO PARRADO HERNANDEZ",
      "photoUrl": "https://lh3.googleusercontent.com/a-/AOh14Ghu-OvX6osyVq8b7J4Xa7D7HiZ61sPYwKqgPxyJ=s64",
      "userId": "09506376050266996513"
     },
     "user_tz": -60
    },
    "id": "lopz8Y9Ccst6"
   },
   "outputs": [],
   "source": [
    "import matplotlib.pyplot as plt\n",
    "import numpy as np\n",
    "from scipy.stats import multivariate_normal, norm\n",
    "import pandas as pd"
   ]
  },
  {
   "cell_type": "code",
   "execution_count": 4,
   "metadata": {},
   "outputs": [],
   "source": [
    "# Import the libraries needed throughout the practical work \n",
    "\n",
    "from sklearn.model_selection import train_test_split\n",
    "from sklearn.gaussian_process import GaussianProcessRegressor\n",
    "from sklearn.gaussian_process.kernels import RBF, WhiteKernel, ConstantKernel, DotProduct, ExpSineSquared, RationalQuadratic, Matern\n",
    "from sklearn.preprocessing import MinMaxScaler\n",
    "from sklearn.ensemble import RandomForestRegressor\n",
    "from sklearn.model_selection import GridSearchCV\n",
    "import random\n",
    "import warnings\n",
    "warnings.simplefilter('ignore')"
   ]
  },
  {
   "cell_type": "markdown",
   "metadata": {
    "id": "-8pLlMwKcst8"
   },
   "source": [
    "## Degree in Data Science and Engineering, group 96\n",
    "## Machine Learning 2\n",
    "### Fall 2023\n",
    "\n",
    "&nbsp;\n",
    "&nbsp;\n",
    "&nbsp;\n",
    "# Lab 4. Gaussian Processes\n",
    "\n",
    "&nbsp;\n",
    "&nbsp;\n",
    "&nbsp;\n",
    "\n",
    "**Emilio Parrado Hernández**\n",
    "\n",
    "Dept. of Signal Processing and Communications\n",
    "\n",
    "&nbsp;\n",
    "&nbsp;\n",
    "&nbsp;\n",
    "\n",
    "\n",
    "\n",
    "\n",
    "<img src='http://www.tsc.uc3m.es/~emipar/BBVA/INTRO/img/logo_uc3m_foot.jpg' width=400 />"
   ]
  },
  {
   "cell_type": "markdown",
   "metadata": {
    "id": "ZqqigYrw4WXW"
   },
   "source": [
    "# Diabetes dataset\n",
    "\n",
    "[Diabetes](https://scikit-learn.org/stable/datasets/index.html#diabetes-dataset) is another classic benchmark for regression. Each observation corresponds to a diabetes patient represented by 10 variables and the corresponding target is a score that measures  the disease progression one year after baseline.\n",
    "\n",
    "The variables that form each observation are:\n",
    "- age in years\n",
    "\n",
    "- sex\n",
    "\n",
    "- bmi body mass index\n",
    "\n",
    "- bp average blood pressure\n",
    "\n",
    "- six measures taken from the blood of the patient:\n",
    "  - s1 tc, T-Cells (a type of white blood cells)\n",
    "\n",
    "  - s2 ldl, low-density lipoproteins\n",
    "\n",
    "  - s3 hdl, high-density lipoproteins\n",
    "\n",
    "  - s4 tch, thyroid stimulating hormone\n",
    "\n",
    "  - s5 ltg, lamotrigine\n",
    "\n",
    "  - s6 glu, blood sugar level\n"
   ]
  },
  {
   "cell_type": "code",
   "execution_count": 5,
   "metadata": {
    "colab": {
     "base_uri": "https://localhost:8080/"
    },
    "executionInfo": {
     "elapsed": 2256,
     "status": "ok",
     "timestamp": 1604482758714,
     "user": {
      "displayName": "EMILIO PARRADO HERNANDEZ",
      "photoUrl": "https://lh3.googleusercontent.com/a-/AOh14Ghu-OvX6osyVq8b7J4Xa7D7HiZ61sPYwKqgPxyJ=s64",
      "userId": "09506376050266996513"
     },
     "user_tz": -60
    },
    "id": "aIgJdjQGcst_",
    "outputId": "beaf2ca4-ad23-424a-f1f6-8f42ab8fd18c"
   },
   "outputs": [
    {
     "name": "stdout",
     "output_type": "stream",
     "text": [
      "Feature names are\n",
      "Column 0: AGE\n",
      "Column 1: SEX\n",
      "Column 2: BMI\n",
      "Column 3: BP\n",
      "Column 4: TC\n",
      "Column 5: LDL\n",
      "Column 6: HDL\n",
      "Column 7: TCH\n",
      "Column 8: LTG\n",
      "Column 9: GLU\n",
      "\n",
      "Loaded 442 observations with 10 columns\n",
      "Loaded 442 targets\n"
     ]
    }
   ],
   "source": [
    "data = pd.read_csv('diabetes.csv', header=0)\n",
    "data.columns = ['AGE', 'SEX', 'BMI', 'BP','TC','LDL','HDL','TCH','LTG','GLU','Y']\n",
    "feature_names = data.columns # list with feature names\n",
    "print(\"Feature names are\")\n",
    "for ii,fn  in enumerate(feature_names[:-1]):\n",
    "    print(\"Column {0:d}: {1}\".format(ii,fn))\n",
    "X = data.values[:,:-1]\n",
    "Y = data['Y'].values\n",
    "print(\"\")\n",
    "print(\"Loaded {0:d} observations with {1:d} columns\".format(X.shape[0], X.shape[1]))\n",
    "print(\"Loaded {0:d} targets\".format(len(Y)))"
   ]
  },
  {
   "cell_type": "code",
   "execution_count": 6,
   "metadata": {},
   "outputs": [
    {
     "data": {
      "text/html": [
       "<div>\n",
       "<style scoped>\n",
       "    .dataframe tbody tr th:only-of-type {\n",
       "        vertical-align: middle;\n",
       "    }\n",
       "\n",
       "    .dataframe tbody tr th {\n",
       "        vertical-align: top;\n",
       "    }\n",
       "\n",
       "    .dataframe thead th {\n",
       "        text-align: right;\n",
       "    }\n",
       "</style>\n",
       "<table border=\"1\" class=\"dataframe\">\n",
       "  <thead>\n",
       "    <tr style=\"text-align: right;\">\n",
       "      <th></th>\n",
       "      <th>AGE</th>\n",
       "      <th>SEX</th>\n",
       "      <th>BMI</th>\n",
       "      <th>BP</th>\n",
       "      <th>TC</th>\n",
       "      <th>LDL</th>\n",
       "      <th>HDL</th>\n",
       "      <th>TCH</th>\n",
       "      <th>LTG</th>\n",
       "      <th>GLU</th>\n",
       "      <th>Y</th>\n",
       "    </tr>\n",
       "  </thead>\n",
       "  <tbody>\n",
       "    <tr>\n",
       "      <th>count</th>\n",
       "      <td>442.000000</td>\n",
       "      <td>442.000000</td>\n",
       "      <td>442.000000</td>\n",
       "      <td>442.000000</td>\n",
       "      <td>442.000000</td>\n",
       "      <td>442.000000</td>\n",
       "      <td>442.000000</td>\n",
       "      <td>442.000000</td>\n",
       "      <td>442.000000</td>\n",
       "      <td>442.000000</td>\n",
       "      <td>442.000000</td>\n",
       "    </tr>\n",
       "    <tr>\n",
       "      <th>mean</th>\n",
       "      <td>48.518100</td>\n",
       "      <td>1.468326</td>\n",
       "      <td>26.375792</td>\n",
       "      <td>94.647014</td>\n",
       "      <td>189.140271</td>\n",
       "      <td>115.439140</td>\n",
       "      <td>49.788462</td>\n",
       "      <td>4.070249</td>\n",
       "      <td>4.642700</td>\n",
       "      <td>91.260181</td>\n",
       "      <td>152.133484</td>\n",
       "    </tr>\n",
       "    <tr>\n",
       "      <th>std</th>\n",
       "      <td>13.109028</td>\n",
       "      <td>0.499561</td>\n",
       "      <td>4.418122</td>\n",
       "      <td>13.831283</td>\n",
       "      <td>34.608052</td>\n",
       "      <td>30.413081</td>\n",
       "      <td>12.934202</td>\n",
       "      <td>1.290450</td>\n",
       "      <td>0.521877</td>\n",
       "      <td>11.496335</td>\n",
       "      <td>77.093005</td>\n",
       "    </tr>\n",
       "    <tr>\n",
       "      <th>min</th>\n",
       "      <td>19.000000</td>\n",
       "      <td>1.000000</td>\n",
       "      <td>18.000000</td>\n",
       "      <td>62.000000</td>\n",
       "      <td>97.000000</td>\n",
       "      <td>41.600000</td>\n",
       "      <td>22.000000</td>\n",
       "      <td>2.000000</td>\n",
       "      <td>3.258100</td>\n",
       "      <td>58.000000</td>\n",
       "      <td>25.000000</td>\n",
       "    </tr>\n",
       "    <tr>\n",
       "      <th>25%</th>\n",
       "      <td>38.250000</td>\n",
       "      <td>1.000000</td>\n",
       "      <td>23.200000</td>\n",
       "      <td>84.000000</td>\n",
       "      <td>164.250000</td>\n",
       "      <td>96.050000</td>\n",
       "      <td>40.250000</td>\n",
       "      <td>3.000000</td>\n",
       "      <td>4.276700</td>\n",
       "      <td>83.250000</td>\n",
       "      <td>87.000000</td>\n",
       "    </tr>\n",
       "    <tr>\n",
       "      <th>50%</th>\n",
       "      <td>50.000000</td>\n",
       "      <td>1.000000</td>\n",
       "      <td>25.700000</td>\n",
       "      <td>93.000000</td>\n",
       "      <td>186.000000</td>\n",
       "      <td>113.000000</td>\n",
       "      <td>48.000000</td>\n",
       "      <td>4.000000</td>\n",
       "      <td>4.620050</td>\n",
       "      <td>91.000000</td>\n",
       "      <td>140.500000</td>\n",
       "    </tr>\n",
       "    <tr>\n",
       "      <th>75%</th>\n",
       "      <td>59.000000</td>\n",
       "      <td>2.000000</td>\n",
       "      <td>29.275000</td>\n",
       "      <td>105.000000</td>\n",
       "      <td>209.750000</td>\n",
       "      <td>134.500000</td>\n",
       "      <td>57.750000</td>\n",
       "      <td>5.000000</td>\n",
       "      <td>4.997200</td>\n",
       "      <td>98.000000</td>\n",
       "      <td>211.500000</td>\n",
       "    </tr>\n",
       "    <tr>\n",
       "      <th>max</th>\n",
       "      <td>79.000000</td>\n",
       "      <td>2.000000</td>\n",
       "      <td>42.200000</td>\n",
       "      <td>133.000000</td>\n",
       "      <td>301.000000</td>\n",
       "      <td>242.400000</td>\n",
       "      <td>99.000000</td>\n",
       "      <td>9.090000</td>\n",
       "      <td>6.107000</td>\n",
       "      <td>124.000000</td>\n",
       "      <td>346.000000</td>\n",
       "    </tr>\n",
       "  </tbody>\n",
       "</table>\n",
       "</div>"
      ],
      "text/plain": [
       "              AGE         SEX         BMI          BP          TC         LDL  \\\n",
       "count  442.000000  442.000000  442.000000  442.000000  442.000000  442.000000   \n",
       "mean    48.518100    1.468326   26.375792   94.647014  189.140271  115.439140   \n",
       "std     13.109028    0.499561    4.418122   13.831283   34.608052   30.413081   \n",
       "min     19.000000    1.000000   18.000000   62.000000   97.000000   41.600000   \n",
       "25%     38.250000    1.000000   23.200000   84.000000  164.250000   96.050000   \n",
       "50%     50.000000    1.000000   25.700000   93.000000  186.000000  113.000000   \n",
       "75%     59.000000    2.000000   29.275000  105.000000  209.750000  134.500000   \n",
       "max     79.000000    2.000000   42.200000  133.000000  301.000000  242.400000   \n",
       "\n",
       "              HDL         TCH         LTG         GLU           Y  \n",
       "count  442.000000  442.000000  442.000000  442.000000  442.000000  \n",
       "mean    49.788462    4.070249    4.642700   91.260181  152.133484  \n",
       "std     12.934202    1.290450    0.521877   11.496335   77.093005  \n",
       "min     22.000000    2.000000    3.258100   58.000000   25.000000  \n",
       "25%     40.250000    3.000000    4.276700   83.250000   87.000000  \n",
       "50%     48.000000    4.000000    4.620050   91.000000  140.500000  \n",
       "75%     57.750000    5.000000    4.997200   98.000000  211.500000  \n",
       "max     99.000000    9.090000    6.107000  124.000000  346.000000  "
      ]
     },
     "execution_count": 6,
     "metadata": {},
     "output_type": "execute_result"
    }
   ],
   "source": [
    "data.describe()"
   ]
  },
  {
   "cell_type": "markdown",
   "metadata": {},
   "source": [
    "# Splitting into training and test set\n",
    "\n",
    "Divide the data set into a training set with $3/4$ of the observations."
   ]
  },
  {
   "cell_type": "code",
   "execution_count": 7,
   "metadata": {},
   "outputs": [],
   "source": [
    "# Divide the data into training and test sets\n",
    "\n",
    "X_train, X_test, y_train, y_test = train_test_split(X, Y, test_size=0.25, random_state=42)"
   ]
  },
  {
   "cell_type": "markdown",
   "metadata": {},
   "source": [
    "# 1. Gaussian Process Regression initial result\n",
    "\n",
    "Train a Gaussian Process with a composite kernel formed as:\n",
    "\n",
    "$$\n",
    "\\kappa_1(\\mathbf x_i, \\mathbf x_j) = \\kappa_c(\\mathbf x_i, \\mathbf x_j)\\times\\kappa_r(\\mathbf x_i, \\mathbf x_j) + \\kappa_w(\\mathbf x_i, \\mathbf x_j)\n",
    "$$ where\n",
    "- $\\kappa_c(\\mathbf x_i, \\mathbf x_j)$ is a constant kernel\n",
    "- $\\kappa_r(\\mathbf x_i, \\mathbf x_j)$ is an isotropic RBF kernel with length_scale $l$: \n",
    "$$\n",
    "\\kappa_r(\\mathbf x_i, \\mathbf x_j) = \\exp\\left( -\\frac{\\|\\mathbf x_i - \\mathbf x_j\\|^2}{2l^2}\\right)\n",
    "$$\n",
    "- $\\kappa_w(\\mathbf x_i, \\mathbf x_j)$ is a WhiteKernel that explains the additive noise component\n",
    "$$\n",
    "\\kappa_w(\\mathbf x_i, \\mathbf x_j) = \\left \\{ \\begin{array}{ll} \\sigma_n^2 & \\mbox{if } \\mathbf x_i== \\mathbf x_j \\\\ 0 & \\mbox{otherwise} \\end{array}\\right.\n",
    "$$\n",
    "\n",
    "Choose the following initial parameters for these kernels:\n",
    "  - RBF kernel:\n",
    "     - `length_scale`= 1.5\n",
    "     - `length_scale_bounds` [1e-2, 1e3]\n",
    "  - White noise kernel:\n",
    "     - `noise_level`=0.1\n",
    "     -`noise_level_bounds` [1e-10, 1e6]\n",
    "     \n",
    "**Print the performance of the model in the test set.**\n",
    "\n",
    "**Print the values of the kernel parameters after the GP optimization.**"
   ]
  },
  {
   "cell_type": "markdown",
   "metadata": {},
   "source": [
    "## Without GP Optimization"
   ]
  },
  {
   "cell_type": "code",
   "execution_count": 8,
   "metadata": {},
   "outputs": [
    {
     "data": {
      "text/plain": [
       "-3.8306030524231858"
      ]
     },
     "execution_count": 8,
     "metadata": {},
     "output_type": "execute_result"
    }
   ],
   "source": [
    "# Define the kernel\n",
    "\n",
    "kernel = ConstantKernel()*RBF(length_scale=1.5, length_scale_bounds=[1e-2, 1e3])+ WhiteKernel(noise_level=0.1, noise_level_bounds=[1e-10, 1e6])\n",
    "\n",
    "# Create a model without GP optimization, that is, set \"optimizer = None\"\n",
    "\n",
    "model = GaussianProcessRegressor(kernel=kernel, optimizer=None, random_state=42).fit(X_train, y_train)\n",
    "\n",
    "# Print the performance of the model in the test set\n",
    "\n",
    "model.score(X_test, y_test)"
   ]
  },
  {
   "cell_type": "code",
   "execution_count": 9,
   "metadata": {},
   "outputs": [
    {
     "data": {
      "text/plain": [
       "{'k1': 1**2 * RBF(length_scale=1.5),\n",
       " 'k2': WhiteKernel(noise_level=0.1),\n",
       " 'k1__k1': 1**2,\n",
       " 'k1__k2': RBF(length_scale=1.5),\n",
       " 'k1__k1__constant_value': 1.0,\n",
       " 'k1__k1__constant_value_bounds': (1e-05, 100000.0),\n",
       " 'k1__k2__length_scale': 1.5,\n",
       " 'k1__k2__length_scale_bounds': [0.01, 1000.0],\n",
       " 'k2__noise_level': 0.10000000000000002,\n",
       " 'k2__noise_level_bounds': [1e-10, 1000000.0]}"
      ]
     },
     "execution_count": 9,
     "metadata": {},
     "output_type": "execute_result"
    }
   ],
   "source": [
    "# Print the kernel parameters of the model without GP Optimization\n",
    "\n",
    "model.kernel_.get_params()"
   ]
  },
  {
   "cell_type": "markdown",
   "metadata": {},
   "source": [
    "## With GP Optimization"
   ]
  },
  {
   "cell_type": "code",
   "execution_count": 10,
   "metadata": {},
   "outputs": [
    {
     "data": {
      "text/plain": [
       "0.4486715472205768"
      ]
     },
     "execution_count": 10,
     "metadata": {},
     "output_type": "execute_result"
    }
   ],
   "source": [
    "# Train again the model, but using GP Optimization\n",
    "\n",
    "model_gp = GaussianProcessRegressor(kernel=kernel, random_state=42).fit(X_train, y_train)\n",
    "\n",
    "# Print the performance of the model with GP Optimization in the test set\n",
    "\n",
    "model_gp.score(X_test, y_test)"
   ]
  },
  {
   "cell_type": "code",
   "execution_count": 11,
   "metadata": {},
   "outputs": [
    {
     "data": {
      "text/plain": [
       "{'k1': 316**2 * RBF(length_scale=164),\n",
       " 'k2': WhiteKernel(noise_level=3.14e+03),\n",
       " 'k1__k1': 316**2,\n",
       " 'k1__k2': RBF(length_scale=164),\n",
       " 'k1__k1__constant_value': 100000.00000000001,\n",
       " 'k1__k1__constant_value_bounds': (1e-05, 100000.0),\n",
       " 'k1__k2__length_scale': 163.69446107019925,\n",
       " 'k1__k2__length_scale_bounds': [0.01, 1000.0],\n",
       " 'k2__noise_level': 3140.1663709621066,\n",
       " 'k2__noise_level_bounds': [1e-10, 1000000.0]}"
      ]
     },
     "execution_count": 11,
     "metadata": {},
     "output_type": "execute_result"
    }
   ],
   "source": [
    "# Print the kernel parameters of the model with GP Optimization\n",
    "\n",
    "model_gp.kernel_.get_params()"
   ]
  },
  {
   "cell_type": "markdown",
   "metadata": {},
   "source": [
    "### Your comments:\n",
    "\n",
    "**Discuss about the differences between the kernel parameters before and after optimizing the GP.**\n",
    "\n",
    "The kernel parameters before optimizing the Gaussian Process Regressor model are the ones that we specified when we initialized the kernel. Therefore, it fits the model using the **RBF length_scale=1.5** and the **WhiteKernel noise_level=0.1**, which returns a pretty bad score (-3.8306030524231858). The score is not the best one since we are using aritrary values for the parameters of the kernels and we did not use an optimizer. \n",
    "\n",
    "On the other hand, the kernel parameters after optimizing the Gaussian Process Regressor model are the ones that the model chooses to be the best ones, as long as they are inside the bounds that we specified in the kernels. Therefore, once it fits the model, the best **RBF length_scale=164** (which is inside the length_scale_bounds specified in the kernel) and the **WhiteKernel noise_level=3.14e+03** (which is also inside the noise_level_bounds specified in the kernel). This model returns a considerably better score (0.44867154722059155), since it is tuning and finding the best parameters inside the bounds that return the highest possible score. \n",
    "\n",
    "\n",
    "Finally, we can conclude that the differences between the kernel parameters before and after optimizing the Gaussian Process Regressor are the value of **length_scale** of the RBF kernel and the value of **noise_level** of the WhiteKernel. "
   ]
  },
  {
   "cell_type": "markdown",
   "metadata": {},
   "source": [
    "# 2. Strategies to improve the initial result\n",
    "\n",
    "In this assignment we are going to explore three strategies to improve this initial result\n",
    "\n",
    "1. Scaling the data\n",
    "2. Feature selection\n",
    "3. Kernel design"
   ]
  },
  {
   "cell_type": "markdown",
   "metadata": {},
   "source": [
    "## 2.1 Scaling the data\n",
    "\n",
    "Repeat the experiment that produced the baseline result scaling the observations with a `MinMaxScaler` and evaluate the impact of this scaling in the performance of the GP. "
   ]
  },
  {
   "cell_type": "code",
   "execution_count": 12,
   "metadata": {},
   "outputs": [],
   "source": [
    "# Initialize the MinMaxScaler\n",
    "\n",
    "scaler = MinMaxScaler()\n",
    "\n",
    "# Fit the scaler\n",
    "\n",
    "scaler.fit(X)\n",
    "\n",
    "# Split the data again into training set and test set, but scaling the data\n",
    "\n",
    "X_train_s, X_test_s, y_train_s, y_test_s = train_test_split(scaler.transform(X), Y, test_size=0.25, random_state=42)"
   ]
  },
  {
   "cell_type": "markdown",
   "metadata": {},
   "source": [
    "## Without GP Optimization"
   ]
  },
  {
   "cell_type": "code",
   "execution_count": 13,
   "metadata": {},
   "outputs": [
    {
     "data": {
      "text/plain": [
       "0.5312233486580515"
      ]
     },
     "execution_count": 13,
     "metadata": {},
     "output_type": "execute_result"
    }
   ],
   "source": [
    "# Train the model with the scaled data and without a GP optimization\n",
    "\n",
    "model_scaled = GaussianProcessRegressor(kernel=kernel, optimizer=None, random_state=42).fit(X_train_s, y_train_s)\n",
    "\n",
    "# Print the performance of the model without GP Optimization in the test set scaled\n",
    "\n",
    "model_scaled.score(X_test_s, y_test_s)"
   ]
  },
  {
   "cell_type": "code",
   "execution_count": 14,
   "metadata": {},
   "outputs": [
    {
     "data": {
      "text/plain": [
       "{'k1': 1**2 * RBF(length_scale=1.5),\n",
       " 'k2': WhiteKernel(noise_level=0.1),\n",
       " 'k1__k1': 1**2,\n",
       " 'k1__k2': RBF(length_scale=1.5),\n",
       " 'k1__k1__constant_value': 1.0,\n",
       " 'k1__k1__constant_value_bounds': (1e-05, 100000.0),\n",
       " 'k1__k2__length_scale': 1.5,\n",
       " 'k1__k2__length_scale_bounds': [0.01, 1000.0],\n",
       " 'k2__noise_level': 0.10000000000000002,\n",
       " 'k2__noise_level_bounds': [1e-10, 1000000.0]}"
      ]
     },
     "execution_count": 14,
     "metadata": {},
     "output_type": "execute_result"
    }
   ],
   "source": [
    "# Print the kernel parameters of the model without GP Optimization\n",
    "\n",
    "model_scaled.kernel_.get_params()"
   ]
  },
  {
   "cell_type": "markdown",
   "metadata": {},
   "source": [
    "## With GP Optimization"
   ]
  },
  {
   "cell_type": "code",
   "execution_count": 15,
   "metadata": {},
   "outputs": [
    {
     "data": {
      "text/plain": [
       "-3.830603467016223"
      ]
     },
     "execution_count": 15,
     "metadata": {},
     "output_type": "execute_result"
    }
   ],
   "source": [
    "# Train again the model with the scaled data and with a GP optimization\n",
    "\n",
    "model_scaled_gp = GaussianProcessRegressor(kernel=kernel, random_state=42).fit(X_train_s, y_train_s)\n",
    "\n",
    "# Print the performance of the model with GP Optimization in the test set scaled\n",
    "\n",
    "model_scaled_gp.score(X_test_s, y_test_s)"
   ]
  },
  {
   "cell_type": "code",
   "execution_count": 16,
   "metadata": {},
   "outputs": [
    {
     "data": {
      "text/plain": [
       "{'k1': 70.4**2 * RBF(length_scale=0.0197),\n",
       " 'k2': WhiteKernel(noise_level=2.49e+04),\n",
       " 'k1__k1': 70.4**2,\n",
       " 'k1__k2': RBF(length_scale=0.0197),\n",
       " 'k1__k1__constant_value': 4957.822557009467,\n",
       " 'k1__k1__constant_value_bounds': (1e-05, 100000.0),\n",
       " 'k1__k2__length_scale': 0.019718815212066133,\n",
       " 'k1__k2__length_scale_bounds': [0.01, 1000.0],\n",
       " 'k2__noise_level': 24908.98433097063,\n",
       " 'k2__noise_level_bounds': [1e-10, 1000000.0]}"
      ]
     },
     "execution_count": 16,
     "metadata": {},
     "output_type": "execute_result"
    }
   ],
   "source": [
    "# Print the kernel parameters of the model with GP Optimization\n",
    "\n",
    "model_scaled_gp.kernel_.get_params()"
   ]
  },
  {
   "cell_type": "markdown",
   "metadata": {},
   "source": [
    "### Your comments:\n",
    "\n",
    "**Did scaling improve the accuracy of the GP?**\n",
    "\n",
    "Scaling the data definately improves the accuracy of the Gaussian Process, but only when we do not use the GP optimizer, that is, when we set the parameter optimizer=None. Then, the score returned is 0.5312233486580493, which is slightly higher than the one obtained when using the GP optimizer and not scaling the data. \n",
    "\n",
    "On the other hand, if we use a GP optimizer and the scaled data, the performance is not good (-3.830603467016223). The score is the same as the one obtained when we do not scale the data and do not use a GP optimizer. \n",
    "\n",
    "**Did scaling affect to the final value of the kernel parameters after the optimization?**\n",
    "\n",
    "Yes, scaling did affect the final value of the kernel parameters after the optimization. In the model with scaled data, but **without** GP optimization, the length_scale=1.5 in the RBF kernel and the noise_level=0.1 in the WhiteKernel, which are the values we specified in the beginning. In the model with scaled data and **with** GP optimization, the length_scale=0.0197 in the RBF kernel and the noise_level=2.49e+04, which are the values that the model suggests to be the best ones.\n",
    "\n",
    "Finally, we can conclude that, in this case, GP optimization worsens the performance of the model when using scaled data."
   ]
  },
  {
   "cell_type": "markdown",
   "metadata": {
    "id": "jvtbdKOMohFY"
   },
   "source": [
    "## 2.2 Feature selection\n",
    "\n",
    "The goal in this strategy is to study\n",
    "- if any of the variables is noisy (its presence worsens the performance of the regressors)\n",
    "- if any of the variables is not relevant (its presence or absence does not affect the performance of the regressor, hence you could save resources by skipping its measure\n",
    "- if some of these variables are more critical than the others in the conformation of the score. This way you can gain insights about the main drivers of the disease.\n",
    "\n",
    "We will explore two strategies to perform the feature selection\n",
    "\n",
    "1. Random Forests property `feature_importances_`.  \n",
    "\n",
    "2. GP with an ARD kernel\n",
    "\n"
   ]
  },
  {
   "cell_type": "markdown",
   "metadata": {},
   "source": [
    "### 2.2.1 Random Forests `feature_importances_`\n",
    "\n",
    "In Random Forest the variables are individually selected to design the stump test in each branch node of each tree in the forest. Relevant variables will be in general oftenly selected for these test, while noisy or redundant variables will be selected less oftenly.  Besides, since the growing of each tree only considers a subset of the training data, the left-out subset can be used as validation set to evaluate the quality of each stump. In this sense, the most relevant variables will lead to better quality stumps.\n",
    "\n",
    "In the sklearn implementation of Random Forest there is a property `feature_importances_` that is precisely a score in the relevance of the features.\n"
   ]
  },
  {
   "cell_type": "markdown",
   "metadata": {},
   "source": [
    "In the following cell write code that\n",
    " 1. Train a Random Forest Regressor with its hyperparameters selected by cross-validation within the following  ranges\n",
    "  - number of trees: 10, 20, 50, 100, 200, 500, 1000\n",
    "  - maximum number of leaves per node: 5, 10, 20, 50\n",
    "  \n",
    " 2. Print the score in the test set  of the Random Forest fitted with the best set of hyperparameters\n",
    " \n",
    " 3. Print the value of `feature_importances_` for each feature in the data set\n",
    " \n",
    " 4. Sort the features in order of decreasing importance in an array called `random_forest_order`\n",
    " \n",
    " "
   ]
  },
  {
   "cell_type": "code",
   "execution_count": 17,
   "metadata": {},
   "outputs": [
    {
     "data": {
      "text/plain": [
       "GridSearchCV(estimator=RandomForestRegressor(random_state=42),\n",
       "             param_grid={'max_leaf_nodes': [5, 10, 20, 50],\n",
       "                         'n_estimators': [10, 20, 50, 100, 200, 500, 1000]})"
      ]
     },
     "execution_count": 17,
     "metadata": {},
     "output_type": "execute_result"
    }
   ],
   "source": [
    "# Initialize the variable that contains the number of trees\n",
    "\n",
    "num_trees = [10,20,50,100,200,500,1000]\n",
    "\n",
    "# Initialize the variable that contains the maximum number of leaves per node\n",
    "\n",
    "max_num_leaves = [5,10,20,50]\n",
    "\n",
    "# Initialize a dictionary with both lists of values, so that the random forest hyperparameters can be selected with cross-validation\n",
    "\n",
    "param_grid = {'n_estimators':num_trees, 'max_leaf_nodes':max_num_leaves}\n",
    "\n",
    "# Find the hyperparameters using cross-validation by using the GridSearchCV function \n",
    "\n",
    "model_rf = GridSearchCV(estimator=RandomForestRegressor(random_state=42), param_grid=param_grid)\n",
    "\n",
    "# Fit the model with the training data\n",
    "\n",
    "model_rf.fit(X_train, y_train)"
   ]
  },
  {
   "cell_type": "code",
   "execution_count": 18,
   "metadata": {},
   "outputs": [
    {
     "data": {
      "text/plain": [
       "{'max_leaf_nodes': 20, 'n_estimators': 1000}"
      ]
     },
     "execution_count": 18,
     "metadata": {},
     "output_type": "execute_result"
    }
   ],
   "source": [
    "# Check the best set of hyperparameters selected by cross-validation \n",
    "\n",
    "model_rf.best_params_"
   ]
  },
  {
   "cell_type": "code",
   "execution_count": 19,
   "metadata": {},
   "outputs": [
    {
     "data": {
      "text/plain": [
       "0.4925020607746565"
      ]
     },
     "execution_count": 19,
     "metadata": {},
     "output_type": "execute_result"
    }
   ],
   "source": [
    "# Train a Random Forest Regressor with the best set of hyperparameters found by cross-validation\n",
    "\n",
    "rf = RandomForestRegressor(n_estimators=1000, max_leaf_nodes=20, random_state=42).fit(X_train, y_train)\n",
    "\n",
    "# Print the score in the test set of the Random Forest fitted with the best set of hyperparameters\n",
    "\n",
    "rf.score(X_test, y_test)"
   ]
  },
  {
   "cell_type": "code",
   "execution_count": 20,
   "metadata": {},
   "outputs": [
    {
     "data": {
      "text/plain": [
       "array([0.04464044, 0.00538963, 0.41306416, 0.1026091 , 0.03357927,\n",
       "       0.03862122, 0.04509299, 0.02147524, 0.24267177, 0.05285618])"
      ]
     },
     "execution_count": 20,
     "metadata": {},
     "output_type": "execute_result"
    }
   ],
   "source": [
    "# Print the value of feature_importances_ for each feature in the data set\n",
    "\n",
    "rf.feature_importances_"
   ]
  },
  {
   "cell_type": "code",
   "execution_count": 21,
   "metadata": {},
   "outputs": [
    {
     "data": {
      "text/plain": [
       "[0.4130641607516948,\n",
       " 0.2426717688352441,\n",
       " 0.10260910066767487,\n",
       " 0.05285618226391051,\n",
       " 0.04509298633713433,\n",
       " 0.044640444766349215,\n",
       " 0.03862122025537258,\n",
       " 0.03357927082518025,\n",
       " 0.02147523844970245,\n",
       " 0.005389626847736814]"
      ]
     },
     "execution_count": 21,
     "metadata": {},
     "output_type": "execute_result"
    }
   ],
   "source": [
    "# Assign a variable to the list of feature_importances_ of each variable in the data set\n",
    "\n",
    "imp = rf.feature_importances_\n",
    "\n",
    "# Sort the features in order of decreasing importance in an array called random_forest_order\n",
    "\n",
    "random_forest_order = sorted(imp, reverse=True)\n",
    "\n",
    "# Print the ordered array\n",
    "\n",
    "random_forest_order"
   ]
  },
  {
   "cell_type": "code",
   "execution_count": 22,
   "metadata": {},
   "outputs": [
    {
     "data": {
      "text/plain": [
       "{'BMI': 0.4130641607516948,\n",
       " 'LTG': 0.2426717688352441,\n",
       " 'BP': 0.10260910066767487,\n",
       " 'GLU': 0.05285618226391051,\n",
       " 'HDL': 0.04509298633713433,\n",
       " 'AGE': 0.044640444766349215,\n",
       " 'LDL': 0.03862122025537258,\n",
       " 'TC': 0.03357927082518025,\n",
       " 'TCH': 0.02147523844970245,\n",
       " 'SEX': 0.005389626847736814}"
      ]
     },
     "execution_count": 22,
     "metadata": {},
     "output_type": "execute_result"
    }
   ],
   "source": [
    "# Additional dictionary created to see which variable belongs to which value in the random_forest_order array\n",
    "\n",
    "head = ['AGE', 'SEX', 'BMI', 'BP','TC','LDL','HDL','TCH','LTG','GLU']\n",
    "\n",
    "# Create an empty dictionary\n",
    "\n",
    "d_rf = {}\n",
    "\n",
    "# Fill in the dictionary \n",
    "\n",
    "for i in range(len(head)):\n",
    "    d_rf[head[i]]  = imp[i]\n",
    "\n",
    "# Store the keys and values in two different variables\n",
    "\n",
    "keys_rf = list(d_rf.keys())\n",
    "\n",
    "values_rf = list(d_rf.values())\n",
    "\n",
    "# Sort the dictionary, so that the features are ordered in decreasing importance\n",
    "\n",
    "sorted_value_index_rf = np.argsort(values_rf)\n",
    "\n",
    "sorted_dict_rf = {keys_rf[i]: values_rf[i] for i in sorted_value_index_rf}\n",
    "\n",
    "my_dict_rf = dict(reversed(sorted_dict_rf.items()))\n",
    "\n",
    "# Print the dictionary \n",
    "\n",
    "my_dict_rf"
   ]
  },
  {
   "cell_type": "markdown",
   "metadata": {},
   "source": [
    "### Your comments: \n",
    "\n",
    "**Did RF perform in the test set better than GP?**\n",
    "\n",
    "Throughout the practical work, we have created four different GP models. One with the original data and without GP optimization, the second with the original data and with GP optimization, the third one with scaled data and without GP optimization, and the fourth one with scaled data and with GP optimization. So far, the **best model** has been the one with **scaled data** and **without GP optimization**, which returned a score of around 0.53. However, to see more clearly the performance of each model and be able to compare them, the following list shows all the scores, including the score obtained using a Random Forest Regressor:\n",
    "\n",
    "     GP with original data and without GP optimization --> -3.8306030524231858\n",
    "     GP with original data and with GP optimization --> 0.44867154722059155\n",
    "     GP with scaled data and without GP optimization --> 0.5312233486580493\n",
    "     GP with scaled data and with GP optimization --> -3.830603467016223\n",
    "     Random Forest Regressor --> 0.4925020607746565\n",
    "\n",
    "Now, if we compare all of them, we can conclude that the RF model is the second best model in terms of score. Its score is slightly worse than that of the Gaussian Process model with scaled data and without GP optimization. Therefore, the RF model did not perform better in the test set than the GP model. \n",
    "\n",
    "**What are the more relevant features according to RF?**\n",
    "\n",
    "According to the RF model, the most relevant features are **BMI** and **LTG**, whose values in the feature importance list are considerably higher than that of the rest of the variables. \n",
    "\n",
    "**Are there significant differences in relevance among the features?**\n",
    "\n",
    "Yes, there are significant differences in relevance among the features, particularly between the first two variables and the rest. The two most relevant variables are **BMI=0.4130641607516948** and **LTG=0.2426717688352441**. Looking at their corresponding values in compasrison to the values of the rest of the variables, the difference between them is not that significant. \n",
    "\n",
    "The highest difference is between all the variables is between the first and second variables, whose difference is of around 0.17. Another significant that is higher than the rest is between the penultimate (TCH: 0.02147523844970245) variable and the last variable (SEX: 0.005389626847736814), and that difference is of around 0.015. \n",
    "\n",
    "Nevertheless, in general, we can conclude that the differences in relevance among the features is not significant. "
   ]
  },
  {
   "cell_type": "markdown",
   "metadata": {},
   "source": [
    "In the next cell write code that implements a `for loop` that in each iteration trains a GP with the settings of Section 1 but increasing the number of features in the ordering suggested by `random_forest_order`. \n",
    "\n",
    "Plot the GP accuracy in the test set vs. the number of features used to model the problem."
   ]
  },
  {
   "cell_type": "code",
   "execution_count": 23,
   "metadata": {},
   "outputs": [],
   "source": [
    "# The first step is to order the data in the same order of the random_forest_order (change the order of the variables)\n",
    "\n",
    "data_ordered = data[list(my_dict_rf.keys())+['Y']]\n",
    "\n",
    "X_o = data_ordered.values[:,:-1]\n",
    "\n",
    "Y_o = data_ordered['Y'].values\n",
    "\n",
    "# Split the data into training and test sets, considering the change in the order of the columns\n",
    "\n",
    "X_train_o, X_test_o, y_train_o, y_test_o = train_test_split(X_o, Y_o, test_size=0.25, random_state=42)"
   ]
  },
  {
   "cell_type": "code",
   "execution_count": 24,
   "metadata": {
    "scrolled": true
   },
   "outputs": [],
   "source": [
    "# Initialize a variable that contains the scores of each GaussianProcessRegressor\n",
    "\n",
    "scores_gp = []\n",
    "\n",
    "# Implement a for loop that in each iteration trains a GP model with the settings of Section1, increasing the number of features in the order suggested by random_forest_order\n",
    "\n",
    "for i in range(len(X_train_o[0])):\n",
    "    model = GaussianProcessRegressor(kernel=kernel, random_state=42).fit(X_train_o[:,0:i+1], y_train_o)\n",
    "    scores_gp.append(model.score(X_test_o[:,0:i+1], y_test_o))"
   ]
  },
  {
   "cell_type": "code",
   "execution_count": 25,
   "metadata": {},
   "outputs": [
    {
     "data": {
      "text/plain": [
       "[0.3191813499402161,\n",
       " 0.5004129878138056,\n",
       " -3.8306034723419673,\n",
       " 0.452133264503112,\n",
       " 0.3998426392118789,\n",
       " 0.40847787365379873,\n",
       " 0.37819590062191966,\n",
       " 0.4465018572469205,\n",
       " 0.44650245983617165,\n",
       " 0.4486715472205737]"
      ]
     },
     "execution_count": 25,
     "metadata": {},
     "output_type": "execute_result"
    }
   ],
   "source": [
    "# Print the list of scores obtained using GP models\n",
    "\n",
    "scores_gp"
   ]
  },
  {
   "cell_type": "code",
   "execution_count": 26,
   "metadata": {},
   "outputs": [
    {
     "data": {
      "image/png": "[encoded data removed]",
      "text/plain": [
       "<Figure size 432x288 with 1 Axes>"
      ]
     },
     "metadata": {
      "image/png": {
       "height": 261,
       "width": 384
      },
      "needs_background": "light"
     },
     "output_type": "display_data"
    }
   ],
   "source": [
    "# Plot the GP accuracy in the test set vs. the number of features used to model the problem.\n",
    "\n",
    "num_features = list(range(1,11))\n",
    "\n",
    "plt.plot(np.array(num_features), np.array(scores_gp), label='scores')\n",
    "\n",
    "plt.ylabel('Score')\n",
    "\n",
    "plt.xlabel('Number of features')\n",
    "\n",
    "plt.grid()\n",
    "\n",
    "_=plt.legend()"
   ]
  },
  {
   "cell_type": "code",
   "execution_count": 27,
   "metadata": {},
   "outputs": [
    {
     "data": {
      "text/plain": [
       "[0.28536933041138124,\n",
       " 0.5062545516917618,\n",
       " 0.4755841874992831,\n",
       " 0.48370566725793607,\n",
       " 0.4754508637763093,\n",
       " 0.4951170428806192,\n",
       " 0.49187691027979863,\n",
       " 0.47249921086542646,\n",
       " 0.47040303594204713,\n",
       " 0.4703343755597934]"
      ]
     },
     "execution_count": 27,
     "metadata": {},
     "output_type": "execute_result"
    }
   ],
   "source": [
    "# Code to answer the second question \"Does removing features improve the performance of RF?\"\n",
    "\n",
    "scores_rf = []\n",
    "\n",
    "for i in range(len(X_train_o[0])):\n",
    "    model = RandomForestRegressor(n_estimators=10, max_leaf_nodes=10, random_state=42).fit(X_train_o[:,0:i+1], y_train_o)\n",
    "    scores_rf.append(model.score(X_test_o[:,0:i+1], y_test_o))\n",
    "\n",
    "scores_rf"
   ]
  },
  {
   "cell_type": "markdown",
   "metadata": {},
   "source": [
    "### Your comments:\n",
    "\n",
    "**What is the best number of features to model the problem?**\n",
    "\n",
    "According the the scores obtained when training GP models with the settings of Section1, increasing the number of features in the order suggested by random_forest_order, the **best number of features to model the problem is 2**. The features that return the highest score are those with the highest feature importance value according to RF ('BMI' and 'LTG'). \n",
    "\n",
    "**Does removing features improve the performance of RF?**\n",
    "\n",
    "Yes, removing features does improve the performance of RF. Looking at the list of scores_rf, with only the first 2 features, the model returns the highest possible score (0.5062545516917618). Therefore, we can conclude that if we remove the last 8 features, the performance of the RF model improves. \n",
    "\n",
    "**Are there noisy features? (Features that, if present, significantly worsen the performance of the GP)**\n",
    "\n",
    "Noisy features are those that worsen the performance of the regressors, and looking at the list of scores_gp, it can be seen that the third variable is definately a noisy variable, since it returns a score of -3.8306034723419673, which significantly worsens the performance of the GP. "
   ]
  },
  {
   "cell_type": "markdown",
   "metadata": {},
   "source": [
    "### 2.2.2 GP with an ARD kernel\n",
    "\n",
    "The fitting of a GP endowed with an anisotropic RBF kernel obtains a different value of the `length_scale` for each variable.\n",
    "\n",
    "**Relate the length scale of each variable with its relevance in the predictive function**\n",
    "\n",
    "Hint: Consider how does the output of the predictive function changes as the value of a certain variable $x_k$ changes depending on $l_k^2$.\n",
    "\n",
    "In the next cell write code that fits a GP with an ARD kernel. \n",
    "\n",
    "**Print the lengthscale value of each feature after the kernel has been optimized** Hint, learn to use `kernel_get_params()`.** \n",
    "\n",
    "**Sort the features in order of decreasing importance in an array called `ARD_order`**\n",
    "\n",
    "**Print the score in the test set  of the GP with ARD kernel**"
   ]
  },
  {
   "cell_type": "code",
   "execution_count": 28,
   "metadata": {},
   "outputs": [
    {
     "data": {
      "text/plain": [
       "array([1.00153163, 1.        , 1.00000383, 1.00000009, 1.00009567,\n",
       "       1.00024491, 1.00009566, 1.        , 1.00000005, 1.00153163])"
      ]
     },
     "execution_count": 28,
     "metadata": {},
     "output_type": "execute_result"
    }
   ],
   "source": [
    "# Initialize the ARD kernel \n",
    "\n",
    "ard_kernel = RBF(length_scale=np.ones(X_train.shape[1]))\n",
    "\n",
    "# Fit a GP model using the ARD kernel\n",
    "\n",
    "model_ard = GaussianProcessRegressor(kernel=ard_kernel, random_state=42).fit(X_train, y_train)\n",
    "\n",
    "# Print the lengthscale value of each feature after the kernel has been optimized\n",
    "\n",
    "length_scale = model_ard.kernel_.get_params()['length_scale']\n",
    "length_scale"
   ]
  },
  {
   "cell_type": "code",
   "execution_count": 29,
   "metadata": {},
   "outputs": [
    {
     "data": {
      "text/plain": [
       "array([9, 0, 5, 4, 6, 2, 3, 8, 7, 1], dtype=int64)"
      ]
     },
     "execution_count": 29,
     "metadata": {},
     "output_type": "execute_result"
    }
   ],
   "source": [
    "# Sort the features in order of decreasing importance \n",
    "\n",
    "ARD_order = np.argsort(length_scale)[::-1]\n",
    "ARD_order"
   ]
  },
  {
   "cell_type": "code",
   "execution_count": 30,
   "metadata": {},
   "outputs": [
    {
     "data": {
      "text/plain": [
       "-3.8306034723413065"
      ]
     },
     "execution_count": 30,
     "metadata": {},
     "output_type": "execute_result"
    }
   ],
   "source": [
    "# Print the score in the test set of the GP and ARD kernel\n",
    "\n",
    "model_ard.score(X_test, y_test)"
   ]
  },
  {
   "cell_type": "code",
   "execution_count": 31,
   "metadata": {},
   "outputs": [
    {
     "data": {
      "text/plain": [
       "{'GLU': 1.0015316331674222,\n",
       " 'AGE': 1.0015316310612168,\n",
       " 'LDL': 1.0002449071372048,\n",
       " 'TC': 1.0000956656725075,\n",
       " 'HDL': 1.0000956603142184,\n",
       " 'BMI': 1.00000383048267,\n",
       " 'BP': 1.0000000895523402,\n",
       " 'LTG': 1.0000000463341645,\n",
       " 'TCH': 1.0000000000001572,\n",
       " 'SEX': 1.0}"
      ]
     },
     "execution_count": 31,
     "metadata": {},
     "output_type": "execute_result"
    }
   ],
   "source": [
    "# Additional dictionary created to see which variable belongs to which value in the length_scale array\n",
    "\n",
    "head = ['AGE', 'SEX', 'BMI', 'BP','TC','LDL','HDL','TCH','LTG','GLU']\n",
    "\n",
    "imp = length_scale\n",
    "\n",
    "# Create an empty dictionary \n",
    "\n",
    "d_ard = {}\n",
    "\n",
    "# Fill in the dictionary \n",
    "\n",
    "for i in range(len(head)):\n",
    "    d_ard[head[i]]  = imp[i]\n",
    "    \n",
    "# Store the keys and values in two different variables\n",
    "\n",
    "keys_ard = list(d_ard.keys())\n",
    "\n",
    "values_ard = list(d_ard.values())\n",
    "\n",
    "# Sort the dictionary, so that the features are ordered in decreasing importance\n",
    "\n",
    "sorted_value_index_ard = np.argsort(values_ard)\n",
    "\n",
    "sorted_dict_ard = {keys_ard[i]: values_ard[i] for i in sorted_value_index_ard}\n",
    "\n",
    "my_dict_ard = dict(reversed(sorted_dict_ard.items()))\n",
    "\n",
    "# Print the dictionary \n",
    "\n",
    "my_dict_ard"
   ]
  },
  {
   "cell_type": "markdown",
   "metadata": {},
   "source": [
    "In the next cell write code that implements a `for loop` that in each iteration trains a GP with an ARD kernel but increasing the number of features in the ordering suggested by `ARD_order`. \n",
    "\n",
    "Plot the GP accuracy in the test set vs. the number of features used to model the problem."
   ]
  },
  {
   "cell_type": "code",
   "execution_count": 32,
   "metadata": {},
   "outputs": [],
   "source": [
    "# The first step is to order the data in the same order of the ARD_order array\n",
    "\n",
    "data_ard = data[list(my_dict_ard.keys())+['Y']]\n",
    "\n",
    "X_ard = data_ard.values[:,:-1]\n",
    "\n",
    "Y_ard = data_ard['Y'].values\n",
    "\n",
    "# Split the data into training and test sets, considering the change in the order of the columns\n",
    "\n",
    "X_train_ard, X_test_ard, y_train_ard, y_test_ard = train_test_split(X_ard, Y_ard, test_size=0.25, random_state=42)"
   ]
  },
  {
   "cell_type": "code",
   "execution_count": 33,
   "metadata": {},
   "outputs": [],
   "source": [
    "# Initialize a variable that contains the scores of each GaussianProcessRegressor with ARD kernel\n",
    "\n",
    "scores_ard = []\n",
    "\n",
    "# Implement a for loop that in each iteration trains a GP model with an ARD kernel, increasing the number of features in the order suggested by ARD_order\n",
    "\n",
    "for i in range(len(X_train_ard[0])):\n",
    "    ard_kernel = RBF(length_scale=np.ones(i+1))\n",
    "    model = GaussianProcessRegressor(kernel=ard_kernel, random_state=42).fit(X_train_ard[:,0:i+1], y_train_ard)\n",
    "    scores_ard.append(model.score(X_test_ard[:,0:i+1], y_test_ard))"
   ]
  },
  {
   "cell_type": "code",
   "execution_count": 34,
   "metadata": {},
   "outputs": [
    {
     "data": {
      "text/plain": [
       "[0.01062263913232464,\n",
       " -1.5849662311452053,\n",
       " -1.6509147659781984,\n",
       " -1.167567892934981,\n",
       " -0.7440159820536079,\n",
       " -0.4431787646907699,\n",
       " -3.8306034723408677,\n",
       " -3.8306034723408775,\n",
       " -3.8306034723408775,\n",
       " -3.8306034723413065]"
      ]
     },
     "execution_count": 34,
     "metadata": {},
     "output_type": "execute_result"
    }
   ],
   "source": [
    "# Print the list of scores\n",
    "\n",
    "scores_ard"
   ]
  },
  {
   "cell_type": "code",
   "execution_count": 35,
   "metadata": {},
   "outputs": [
    {
     "data": {
      "image/png": "[encoded data removed]",
      "text/plain": [
       "<Figure size 432x288 with 1 Axes>"
      ]
     },
     "metadata": {
      "image/png": {
       "height": 261,
       "width": 393
      },
      "needs_background": "light"
     },
     "output_type": "display_data"
    }
   ],
   "source": [
    "# Plot the GP accuracy in the test set vs. the number of features used to model the problem.\n",
    "\n",
    "num_features = list(range(1,11))\n",
    "\n",
    "plt.plot(np.array(num_features), np.array(scores_ard), label='scores')\n",
    "\n",
    "plt.ylabel('Score')\n",
    "\n",
    "plt.xlabel('Number of features')\n",
    "\n",
    "plt.grid()\n",
    "\n",
    "_=plt.legend()"
   ]
  },
  {
   "cell_type": "markdown",
   "metadata": {},
   "source": [
    "### Your comments: \n",
    "\n",
    "**What is the best number of features to model the problem according to the ARD kernel?**\n",
    "\n",
    "Looking at the list of scores_ard, we can seen that, in general, the performance of the model is pretty bad. However, if we had to use this kernel, we would say that the **best number of features to model the problem** according to the ARD kernel is **1**, which returns the highest possible score (0.01634511339197553). \n",
    "\n",
    "**How stable are the optimizations of the Gaussian Processes with ARD kernels as the number of features increase?**\n",
    "\n",
    "Looking at the graph, we can clearly see that the optimizations of the Gaussian Process with ARD kernels is very unstable as the number of features increases, until it reaches 7 features and becomes stable. \n",
    "\n",
    "**Does removing features improve the performance of GPs?**\n",
    "\n",
    "Yes, removing features does improve the performance of the Gaussian Processes, because as it can be seen in the list of scores_ard, with just the first variable, we obtain the highest possible score. Therefore, we can conclude that we can remove the last 9 variables. \n",
    "\n",
    "**Are there noisy features? (Features that, if present, significantly worsen the performance of the GP)**\n",
    "\n",
    "Noisy features are those that worsen the performance of the regressors, and looking at the list of scores_ard, it can be seen that the all the variables except for the first one are noisy variables, since all of them have negative scores, which significantly worsen the performance of the Gaussian Process. \n",
    "\n",
    "**How does the feature selection suggested by the ARD kernel compare with that suggested by random forest?**\n",
    "\n",
    "Comparing best number of features to model the problem:\n",
    "\n",
    "The feature selection process suggested by the ARD kernel says that with only the first feature ('GLU'), the highest possible score is returned, while the feature selection process suggested by random forest says that with the first two variables ('BMI' and 'LTG'), the highest possible score of the model is returned. Moreover, it can be seen that the most relevant variables in each model do not coincide, ARD kernel suggests that the most relevant variables is 'GLU', while the random forest says that the most relevant variables are 'BMI' and 'LTG'. One interesting thing that we noticed was that 'BMI' and 'LTG' are not that relevant according to the feature selection suggested by ARD kernal. Finally, comparing the performance achieved by each model using the best number of features according to feature selection, the score of the random forest model is considerably higher than that of the ARD kernel. \n",
    "\n",
    "    Score using most relevant variables given by the feature selection suggested by ARD kernel --> 0.0163\n",
    "    \n",
    "    Score of using most relevant variables given by the feature selection suggested by random forest --> 0.50625"
   ]
  },
  {
   "cell_type": "markdown",
   "metadata": {
    "id": "Pnqv8kpOdLzC"
   },
   "source": [
    "# 4. Exploring sophisticate kernels for the GP\n",
    "\n",
    "The greatest potentiality of GPs are the exploration of different kernels that capture the geometry of the inputs. \n",
    "\n",
    "Besides, the essential kernels can be combined into more sophisticate ones using the addition and multiplication operations.\n",
    "\n",
    "And the most interesting feature, the GP implementation is able to optimize the parameters of the kernel maximizing the likelihood of the observations, what saves the crossvalidation step for optimizing parameters.\n",
    "\n",
    "Read the [section 1.7.5 of this site](https://scikit-learn.org/stable/modules/gaussian_process.html) to learn the different kernels that are implemented in the scikit learn distribution of Gaussian Processes.\n",
    "\n",
    "In this section check at least twenty different kernel configurations and evaluate if they improve the kernel evaluated in section 1. Remember this kernel was\n",
    "\n",
    "$$\n",
    "\\kappa_1(\\mathbf x_i, \\mathbf x_j) = \\kappa_c(\\mathbf x_i, \\mathbf x_j)\\times\\kappa_r(\\mathbf x_i, \\mathbf x_j) + \\kappa_w(\\mathbf x_i, \\mathbf x_j)\n",
    "$$ where\n",
    "- $\\kappa_c(\\mathbf x_i, \\mathbf x_j)$ is a constant kernel\n",
    "- $\\kappa_r(\\mathbf x_i, \\mathbf x_j)$ is an isotropic RBF kernel with length_scale $l$: \n",
    "$$\n",
    "\\kappa_r(\\mathbf x_i, \\mathbf x_j) = \\exp\\left( -\\frac{\\|\\mathbf x_i - \\mathbf x_j\\|^2}{2l^2}\\right)\n",
    "$$\n",
    "- $\\kappa_w(\\mathbf x_i, \\mathbf x_j)$ is a WhiteKernel that explains the additive noise component\n",
    "$$\n",
    "\\kappa_w(\\mathbf x_i, \\mathbf x_j) = \\left \\{ \\begin{array}{ll} \\sigma_n^2 & \\mbox{if } \\mathbf x_i== \\mathbf x_j \\\\ 0 & \\mbox{otherwise} \\end{array}\\right.\n",
    "$$\n",
    "\n",
    "Within the kernel combinations to explore you can include:\n",
    "1. Replace $\\kappa_r(\\mathbf x_i, \\mathbf x_j)$ by an anisotropic RBF in $\\kappa_1(\\mathbf x_i, \\mathbf x_j)$. \n",
    "\n",
    "3. Individual kernels presented in the lecture\n",
    "\n",
    "4. Addition of several kernels\n",
    "\n",
    "5. Multiplication of several kernels\n",
    "\n",
    "6. Use your imagination!"
   ]
  },
  {
   "cell_type": "markdown",
   "metadata": {},
   "source": [
    "We will use the different kernel combinations to characterize how difficult is the problem at hand in terms of how difficult is to find out a kernel that achieves the best possible result in the test set.\n",
    "\n",
    "For this purpose:\n",
    "1. Group in a same array all the scores in the **test set** achieved by all the kernel combinations that you explore in this section. Consider carrying out this exploration in a programatic fashion. As a suggestion, program nested loops that create composite kernels as combination of simple kernels.\n",
    "\n",
    "2. Discuss about the range of test accuracies that can be reached with GPs when the kernel is more carefully designed. Depending on the number of different kernels explored you might consider adding to your discussion\n",
    "- minimum, maximum, mean values\n",
    "- standard deviations\n",
    "- percentiles\n",
    "- histogram"
   ]
  },
  {
   "cell_type": "code",
   "execution_count": 36,
   "metadata": {
    "colab": {
     "base_uri": "https://localhost:8080/"
    },
    "executionInfo": {
     "elapsed": 382147,
     "status": "ok",
     "timestamp": 1604483138700,
     "user": {
      "displayName": "EMILIO PARRADO HERNANDEZ",
      "photoUrl": "https://lh3.googleusercontent.com/a-/AOh14Ghu-OvX6osyVq8b7J4Xa7D7HiZ61sPYwKqgPxyJ=s64",
      "userId": "09506376050266996513"
     },
     "user_tz": -60
    },
    "id": "-w5KJnordc0Y",
    "outputId": "a7e7438b-864a-4559-d112-91af32f60bb1"
   },
   "outputs": [
    {
     "data": {
      "text/plain": [
       "['DotProduct(sigma_0=5)',\n",
       " 'ExpSineSquared(length_scale=100, periodicity=5)',\n",
       " 'RationalQuadratic(alpha=5, length_scale=100)',\n",
       " 'Matern(length_scale=100)',\n",
       " 'RBF(length_scale=np.ones(X_train.shape[1]))',\n",
       " 'DotProduct(sigma_0=5)+RationalQuadratic(alpha=5,length_scale=100)',\n",
       " 'Matern(length_scale=100)+RationalQuadratic(alpha=5,length_scale=100)',\n",
       " 'Matern(length_scale=100)*RBF(length_scale=100)',\n",
       " 'RBF(length_scale=100)*DotProduct(sigma_0=5)',\n",
       " 'RBF(length_scale=100)*RationalQuadratic(alpha=5,length_scale=100)',\n",
       " 'Matern(length_scale=100)+ExpSineSquared(length_scale=100, periodicity=5)',\n",
       " 'ConstantKernel()+DotProduct(sigma_0=5)',\n",
       " 'Matern(length_scale=100)+ExpSineSquared(length_scale=100, periodicity=5)',\n",
       " 'ExpSineSquared(length_scale=100, periodicity=5)*RBF(length_scale=100)',\n",
       " 'ExpSineSquared(length_scale=100, periodicity=5)*ConstantKernel()',\n",
       " 'RBF(length_scale=100)*RBF(length_scale=100)',\n",
       " 'RBF(length_scale=100)*ExpSineSquared(length_scale=100, periodicity=5)',\n",
       " 'DotProduct(sigma_0=5)+DotProduct(sigma_0=5)',\n",
       " 'ExpSineSquared(length_scale=100, periodicity=5)+DotProduct(sigma_0=5)',\n",
       " 'RationalQuadratic(alpha=5,length_scale=100)+RationalQuadratic(alpha=5,length_scale=100)']"
      ]
     },
     "execution_count": 36,
     "metadata": {},
     "output_type": "execute_result"
    }
   ],
   "source": [
    "# Initialize all the possible kernels that will be used during the generation of the 20 different kernels \n",
    "\n",
    "# We are selecting arbitrary values for the different parameters of each kernel\n",
    "\n",
    "kernels = ['DotProduct(sigma_0=5)', 'ExpSineSquared(length_scale=100, periodicity=5)', \n",
    "           'RationalQuadratic(alpha=5,length_scale=100)', 'Matern(length_scale=100)', \n",
    "           'RBF(length_scale=100)', 'WhiteKernel(noise_level=3)', 'ConstantKernel()']\n",
    "\n",
    "# Initialize the possible operators that could appear, which are sum and product\n",
    "\n",
    "operators = [\"+\", \"*\"]\n",
    "\n",
    "# This list contains the five first individual kernels that will be used, and it will be expanded with the rest of the kernels \n",
    "\n",
    "ker = ['DotProduct(sigma_0=5)', 'ExpSineSquared(length_scale=100, periodicity=5)', 'RationalQuadratic(alpha=5, length_scale=100)', 'Matern(length_scale=100)', 'RBF(length_scale=np.ones(X_train.shape[1]))']\n",
    "\n",
    "\n",
    "# Create a loop that generates random combinations of kernels and appends them to the ker list\n",
    "\n",
    "random.seed(43)\n",
    "\n",
    "for i in range(15):\n",
    "    k1 = random.randint(0,6)\n",
    "    k2 = random.randint(0,6)\n",
    "    o = random.randint(0,1)\n",
    "    ker.append(kernels[k1]+operators[o]+kernels[k2])\n",
    "\n",
    "# Print the list of all the different kernels that will be used when fitting the Gaussian Process Regressors\n",
    "\n",
    "ker"
   ]
  },
  {
   "cell_type": "code",
   "execution_count": 37,
   "metadata": {},
   "outputs": [
    {
     "data": {
      "text/plain": [
       "[0.4810439027094696,\n",
       " -0.01162530684467944,\n",
       " 0.3369973651660354,\n",
       " 0.40190365454458976,\n",
       " -3.8306034723416422,\n",
       " 0.4810841069890611,\n",
       " 0.27006793281478847,\n",
       " 0.4019037099232998,\n",
       " -3.8306034723419673,\n",
       " 0.3375453049574909,\n",
       " 0.3218789271240138,\n",
       " 0.48104794045747945,\n",
       " 0.3218789271240138,\n",
       " 0.4059604552503724,\n",
       " -3.8306034723419673,\n",
       " 0.410292574151226,\n",
       " 0.4005754421021783,\n",
       " 0.4815550090052406,\n",
       " 0.4782217772110089,\n",
       " 0.3362237263790393]"
      ]
     },
     "execution_count": 37,
     "metadata": {},
     "output_type": "execute_result"
    }
   ],
   "source": [
    "# Initialize an empty list that will contain the scores of each one of the models with the different kernels\n",
    "\n",
    "test_scores = []\n",
    "\n",
    "# Iterate through the list so that a Gaussian Process Regressor is generated for each kernel and append its score to the list test_scores\n",
    "for i in ker:\n",
    "    model = GaussianProcessRegressor(kernel=eval(i), alpha=1, random_state=42).fit(X_train, y_train)\n",
    "    test_scores.append(model.score(X_test, y_test))\n",
    "\n",
    "# Print the test_scores\n",
    "\n",
    "test_scores"
   ]
  },
  {
   "cell_type": "code",
   "execution_count": 38,
   "metadata": {},
   "outputs": [
    {
     "data": {
      "image/png": "[encoded data removed]",
      "text/plain": [
       "<Figure size 432x288 with 1 Axes>"
      ]
     },
     "metadata": {
      "image/png": {
       "height": 261,
       "width": 384
      },
      "needs_background": "light"
     },
     "output_type": "display_data"
    }
   ],
   "source": [
    "# Plot the scores in the test set of all the models vs. the kernel\n",
    "\n",
    "num_features = list(range(1,21))\n",
    "\n",
    "plt.plot(np.array(num_features), np.array(test_scores), label='scores')\n",
    "\n",
    "plt.ylabel('Score')\n",
    "\n",
    "plt.xlabel('Kernel')\n",
    "\n",
    "plt.grid()\n",
    "\n",
    "_=plt.legend()"
   ]
  },
  {
   "cell_type": "code",
   "execution_count": 39,
   "metadata": {},
   "outputs": [
    {
     "name": "stdout",
     "output_type": "stream",
     "text": [
      "Highest score in the list: 0.4815550090052406\n",
      "\n",
      "Index of highest score in the list: 17\n",
      "\n",
      "Kernel that returned the highest score in the list: DotProduct(sigma_0=5)+DotProduct(sigma_0=5)\n"
     ]
    }
   ],
   "source": [
    "# Highest score out of all in the test_scores list\n",
    "\n",
    "print('Highest score in the list:',max(test_scores))\n",
    "print(\"\")\n",
    "print('Index of highest score in the list:',test_scores.index(max(test_scores)))\n",
    "print(\"\")\n",
    "print('Kernel that returned the highest score in the list:', ker[test_scores.index(max(test_scores))])"
   ]
  },
  {
   "cell_type": "markdown",
   "metadata": {},
   "source": [
    "## Discussion\n",
    "\n",
    "In this section, we created a loop that automatically and randomly generated different combinations of kernels. In the list test_scores, we can see the performance of each Gaussian Process with their respective kernels, and some of them are good, but others are very bad. \n",
    "\n",
    "The highest possible score obtained in the randomly generated kernels was **0.48154352705450754** using the following kernel **DotProduct(sigma_0=5)+DotProduct(sigma_0=5)**. Comparing this result with the one obtained in Section 1 with a more carefully designed kernel (score=0.44867154722059155 and kernel=ConstantKernel()*RBF(length_scale=1.5, length_scale_bounds=[1e-2, 1e3])+ WhiteKernel(noise_level=0.1, noise_level_bounds=[1e-10, 1e6])), we can see that the score obtained in this section is slightly higher than that of the first section.\n",
    "\n",
    "Moreover, looking at all the previous results from the notebook, we can conclude that the best possible model was the one obtained with scaled data, without using GP optimization, and using the kernel specified in the first section, which returned a score of around 0.53. This score of Section 2 is slightly better than the one obtained for the automatically and randomly generated kernel. \n",
    "\n",
    "Finally, we can conclude that the randomly generated kernel with highest performance without carefully designing it and tuning its parameters, returned an overall performance of around a 5% lower than the best score obtained in the whole notebook (mentioned above). However, the performance is slightly better than the one obtained in section 1, which could have been just luck, and maybe if we would have carefully designed the kernel, like we did in Section 1, we could have been able to improve the highest score obtained in the notebook. "
   ]
  },
  {
   "cell_type": "markdown",
   "metadata": {
    "executionInfo": {
     "elapsed": 389618,
     "status": "ok",
     "timestamp": 1604483146195,
     "user": {
      "displayName": "EMILIO PARRADO HERNANDEZ",
      "photoUrl": "https://lh3.googleusercontent.com/a-/AOh14Ghu-OvX6osyVq8b7J4Xa7D7HiZ61sPYwKqgPxyJ=s64",
      "userId": "09506376050266996513"
     },
     "user_tz": -60
    },
    "id": "7xyVyI6Yy76w"
   },
   "source": [
    "# Items for discussion\n",
    "\n",
    "- Which strategy turned out to be the best in terms of increasing the performance of the GP? \n",
    "\n",
    "The strategy that turned out to be the best in terms of increasing the performance of the GP was scaling the data and setting the **optimizer** of the Gaussian Process Regressor function equal to **None**, that is, without using GP optimization. This strategy returned the highest score out of all the strategies applied in this notebook; the score returned was around 0.53. \n",
    "\n",
    "- Did this strategy performed significantly better than the others?\n",
    "\n",
    "The performance of this strategy was the best out of all the models; nevertheless, the difference was not significant with respect to the second and third best models. For instance, the second best model was the one obtained using the randomly generated kernel, which returned a score of around 0.48. The third best model was the one obtained using the kernel defined in section 1 and the optimizer, which returned a score of around 0.44. Therefore, this shows that even though there was a difference between the scores, it was not significant between the best models. Nevertheless, if we compare, for example, the first model created in section 1 that did not use a GP optimizer, there is no doubt that the difference is significant, since the score of this model was around -3.8. \n",
    "\n",
    "- Kernel design pushes the GP model further into the **black box method** region, what is the price you pay for sticking to the more interpretable ARD kernel in terms of accuracy? \n",
    "\n",
    "The price that you pay for sticking to the more interpretable ARD kernel, is that you will obtain pretty bad scores, that is, the performance of the model using this kernel will be bad, or at least, it will not be the best. However, depending on the characteristics and objectives of each problem, it may be better to use a kernel that you know will not produce the best GP model in terms of accuracy and performance, but to have a model and a kernel that you can easily interpret and understand, and be able to extract some or more conclusions from it. "
   ]
  }
 ],
 "metadata": {
  "celltoolbar": "Slideshow",
  "colab": {
   "collapsed_sections": [],
   "name": "lab_regression.ipynb",
   "provenance": []
  },
  "kernelspec": {
   "display_name": "Python 3 (ipykernel)",
   "language": "python",
   "name": "python3"
  },
  "language_info": {
   "codemirror_mode": {
    "name": "ipython",
    "version": 3
   },
   "file_extension": ".py",
   "mimetype": "text/x-python",
   "name": "python",
   "nbconvert_exporter": "python",
   "pygments_lexer": "ipython3",
   "version": "3.9.7"
  }
 },
 "nbformat": 4,
 "nbformat_minor": 1
}
